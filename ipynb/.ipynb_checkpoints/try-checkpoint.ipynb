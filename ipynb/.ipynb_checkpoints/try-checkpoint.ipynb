{
 "cells": [
  {
   "cell_type": "code",
   "execution_count": 1,
   "metadata": {},
   "outputs": [],
   "source": [
    "import torch\n",
    "from torch import nn\n",
    "from torch.nn.parameter import Parameter\n",
    "import torch.nn.functional as F\n",
    "\n",
    "import numpy as np"
   ]
  },
  {
   "cell_type": "code",
   "execution_count": 14,
   "metadata": {},
   "outputs": [
    {
     "data": {
      "text/plain": [
       "tensor([[[[  0.,   1.],\n",
       "          [  2.,   3.]],\n",
       "\n",
       "         [[  4.,   5.],\n",
       "          [  6.,   7.]],\n",
       "\n",
       "         [[  8.,   9.],\n",
       "          [ 10.,  11.]],\n",
       "\n",
       "         [[ 12.,  13.],\n",
       "          [ 14.,  15.]],\n",
       "\n",
       "         [[ 16.,  17.],\n",
       "          [ 18.,  19.]],\n",
       "\n",
       "         [[ 20.,  21.],\n",
       "          [ 22.,  23.]],\n",
       "\n",
       "         [[ 24.,  25.],\n",
       "          [ 26.,  27.]],\n",
       "\n",
       "         [[ 28.,  29.],\n",
       "          [ 30.,  31.]],\n",
       "\n",
       "         [[ 32.,  33.],\n",
       "          [ 34.,  35.]],\n",
       "\n",
       "         [[ 36.,  37.],\n",
       "          [ 38.,  39.]]],\n",
       "\n",
       "\n",
       "        [[[ 40.,  41.],\n",
       "          [ 42.,  43.]],\n",
       "\n",
       "         [[ 44.,  45.],\n",
       "          [ 46.,  47.]],\n",
       "\n",
       "         [[ 48.,  49.],\n",
       "          [ 50.,  51.]],\n",
       "\n",
       "         [[ 52.,  53.],\n",
       "          [ 54.,  55.]],\n",
       "\n",
       "         [[ 56.,  57.],\n",
       "          [ 58.,  59.]],\n",
       "\n",
       "         [[ 60.,  61.],\n",
       "          [ 62.,  63.]],\n",
       "\n",
       "         [[ 64.,  65.],\n",
       "          [ 66.,  67.]],\n",
       "\n",
       "         [[ 68.,  69.],\n",
       "          [ 70.,  71.]],\n",
       "\n",
       "         [[ 72.,  73.],\n",
       "          [ 74.,  75.]],\n",
       "\n",
       "         [[ 76.,  77.],\n",
       "          [ 78.,  79.]]],\n",
       "\n",
       "\n",
       "        [[[ 80.,  81.],\n",
       "          [ 82.,  83.]],\n",
       "\n",
       "         [[ 84.,  85.],\n",
       "          [ 86.,  87.]],\n",
       "\n",
       "         [[ 88.,  89.],\n",
       "          [ 90.,  91.]],\n",
       "\n",
       "         [[ 92.,  93.],\n",
       "          [ 94.,  95.]],\n",
       "\n",
       "         [[ 96.,  97.],\n",
       "          [ 98.,  99.]],\n",
       "\n",
       "         [[100., 101.],\n",
       "          [102., 103.]],\n",
       "\n",
       "         [[104., 105.],\n",
       "          [106., 107.]],\n",
       "\n",
       "         [[108., 109.],\n",
       "          [110., 111.]],\n",
       "\n",
       "         [[112., 113.],\n",
       "          [114., 115.]],\n",
       "\n",
       "         [[116., 117.],\n",
       "          [118., 119.]]],\n",
       "\n",
       "\n",
       "        [[[120., 121.],\n",
       "          [122., 123.]],\n",
       "\n",
       "         [[124., 125.],\n",
       "          [126., 127.]],\n",
       "\n",
       "         [[128., 129.],\n",
       "          [130., 131.]],\n",
       "\n",
       "         [[132., 133.],\n",
       "          [134., 135.]],\n",
       "\n",
       "         [[136., 137.],\n",
       "          [138., 139.]],\n",
       "\n",
       "         [[140., 141.],\n",
       "          [142., 143.]],\n",
       "\n",
       "         [[144., 145.],\n",
       "          [146., 147.]],\n",
       "\n",
       "         [[148., 149.],\n",
       "          [150., 151.]],\n",
       "\n",
       "         [[152., 153.],\n",
       "          [154., 155.]],\n",
       "\n",
       "         [[156., 157.],\n",
       "          [158., 159.]]]])"
      ]
     },
     "execution_count": 14,
     "metadata": {},
     "output_type": "execute_result"
    }
   ],
   "source": [
    "a = torch.arange(160).reshape(4, 10, 2, 2).to(torch.float32)\n",
    "a"
   ]
  },
  {
   "cell_type": "code",
   "execution_count": 32,
   "metadata": {},
   "outputs": [
    {
     "name": "stdout",
     "output_type": "stream",
     "text": [
      "tensor([2., 2., 2., 2., 2., 2., 2., 2., 2., 2.])\n",
      "tensor([0., 0., 0., 0., 0., 0., 0., 0., 0., 0.])\n"
     ]
    }
   ],
   "source": [
    "w = torch.full((10,), 2)\n",
    "print(w)\n",
    "b = torch.zeros(10)\n",
    "print(b)"
   ]
  },
  {
   "cell_type": "code",
   "execution_count": 33,
   "metadata": {},
   "outputs": [],
   "source": [
    "o = w.reshape(-1, 1, 1) * a + b.reshape(-1, 1, 1)"
   ]
  },
  {
   "cell_type": "code",
   "execution_count": 34,
   "metadata": {},
   "outputs": [
    {
     "data": {
      "text/plain": [
       "torch.Size([4, 10, 2, 2])"
      ]
     },
     "execution_count": 34,
     "metadata": {},
     "output_type": "execute_result"
    }
   ],
   "source": [
    "o.shape"
   ]
  },
  {
   "cell_type": "code",
   "execution_count": 35,
   "metadata": {},
   "outputs": [
    {
     "data": {
      "text/plain": [
       "tensor([[[[  0.,   2.],\n",
       "          [  4.,   6.]],\n",
       "\n",
       "         [[  8.,  10.],\n",
       "          [ 12.,  14.]],\n",
       "\n",
       "         [[ 16.,  18.],\n",
       "          [ 20.,  22.]],\n",
       "\n",
       "         [[ 24.,  26.],\n",
       "          [ 28.,  30.]],\n",
       "\n",
       "         [[ 32.,  34.],\n",
       "          [ 36.,  38.]],\n",
       "\n",
       "         [[ 40.,  42.],\n",
       "          [ 44.,  46.]],\n",
       "\n",
       "         [[ 48.,  50.],\n",
       "          [ 52.,  54.]],\n",
       "\n",
       "         [[ 56.,  58.],\n",
       "          [ 60.,  62.]],\n",
       "\n",
       "         [[ 64.,  66.],\n",
       "          [ 68.,  70.]],\n",
       "\n",
       "         [[ 72.,  74.],\n",
       "          [ 76.,  78.]]],\n",
       "\n",
       "\n",
       "        [[[ 80.,  82.],\n",
       "          [ 84.,  86.]],\n",
       "\n",
       "         [[ 88.,  90.],\n",
       "          [ 92.,  94.]],\n",
       "\n",
       "         [[ 96.,  98.],\n",
       "          [100., 102.]],\n",
       "\n",
       "         [[104., 106.],\n",
       "          [108., 110.]],\n",
       "\n",
       "         [[112., 114.],\n",
       "          [116., 118.]],\n",
       "\n",
       "         [[120., 122.],\n",
       "          [124., 126.]],\n",
       "\n",
       "         [[128., 130.],\n",
       "          [132., 134.]],\n",
       "\n",
       "         [[136., 138.],\n",
       "          [140., 142.]],\n",
       "\n",
       "         [[144., 146.],\n",
       "          [148., 150.]],\n",
       "\n",
       "         [[152., 154.],\n",
       "          [156., 158.]]],\n",
       "\n",
       "\n",
       "        [[[160., 162.],\n",
       "          [164., 166.]],\n",
       "\n",
       "         [[168., 170.],\n",
       "          [172., 174.]],\n",
       "\n",
       "         [[176., 178.],\n",
       "          [180., 182.]],\n",
       "\n",
       "         [[184., 186.],\n",
       "          [188., 190.]],\n",
       "\n",
       "         [[192., 194.],\n",
       "          [196., 198.]],\n",
       "\n",
       "         [[200., 202.],\n",
       "          [204., 206.]],\n",
       "\n",
       "         [[208., 210.],\n",
       "          [212., 214.]],\n",
       "\n",
       "         [[216., 218.],\n",
       "          [220., 222.]],\n",
       "\n",
       "         [[224., 226.],\n",
       "          [228., 230.]],\n",
       "\n",
       "         [[232., 234.],\n",
       "          [236., 238.]]],\n",
       "\n",
       "\n",
       "        [[[240., 242.],\n",
       "          [244., 246.]],\n",
       "\n",
       "         [[248., 250.],\n",
       "          [252., 254.]],\n",
       "\n",
       "         [[256., 258.],\n",
       "          [260., 262.]],\n",
       "\n",
       "         [[264., 266.],\n",
       "          [268., 270.]],\n",
       "\n",
       "         [[272., 274.],\n",
       "          [276., 278.]],\n",
       "\n",
       "         [[280., 282.],\n",
       "          [284., 286.]],\n",
       "\n",
       "         [[288., 290.],\n",
       "          [292., 294.]],\n",
       "\n",
       "         [[296., 298.],\n",
       "          [300., 302.]],\n",
       "\n",
       "         [[304., 306.],\n",
       "          [308., 310.]],\n",
       "\n",
       "         [[312., 314.],\n",
       "          [316., 318.]]]])"
      ]
     },
     "execution_count": 35,
     "metadata": {},
     "output_type": "execute_result"
    }
   ],
   "source": [
    "o"
   ]
  },
  {
   "cell_type": "code",
   "execution_count": 45,
   "metadata": {},
   "outputs": [
    {
     "data": {
      "text/plain": [
       "torch.Size([4, 10, 2, 2])"
      ]
     },
     "execution_count": 45,
     "metadata": {},
     "output_type": "execute_result"
    }
   ],
   "source": [
    "o.shape"
   ]
  },
  {
   "cell_type": "code",
   "execution_count": 48,
   "metadata": {},
   "outputs": [
    {
     "data": {
      "text/plain": [
       "(-1, 1, 1)"
      ]
     },
     "execution_count": 48,
     "metadata": {},
     "output_type": "execute_result"
    }
   ],
   "source": [
    "(-1,) + (1,)* 2"
   ]
  },
  {
   "cell_type": "code",
   "execution_count": 99,
   "metadata": {},
   "outputs": [],
   "source": [
    "class TestM(nn.Module):\n",
    "    \n",
    "    def __init__(self):\n",
    "        super(TestM, self).__init__()\n",
    "        self.register_parameter('w', None)\n",
    "        self.register_parameter('b', None)\n",
    "        self.register_forward_pre_hook(self._get_size)\n",
    "#         self.register_forward_hook(self._get_size)\n",
    "    \n",
    "    @staticmethod\n",
    "    def _get_size(module, inputs):\n",
    "        print(inputs)\n",
    "        x = inputs[0]\n",
    "        shape = x.shape\n",
    "        if module.w is None:\n",
    "            module.w = Parameter(torch.ones(shape[1]))\n",
    "        if module.b is None:\n",
    "            module.b = Parameter(torch.zeros(shape[1]))\n",
    "    \n",
    "    def forward(self, x, y):\n",
    "        return x"
   ]
  },
  {
   "cell_type": "code",
   "execution_count": 100,
   "metadata": {},
   "outputs": [],
   "source": [
    "t = TestM()"
   ]
  },
  {
   "cell_type": "code",
   "execution_count": 101,
   "metadata": {},
   "outputs": [
    {
     "data": {
      "text/plain": [
       "Parameter containing:\n",
       "tensor([1., 1., 1., 1., 1., 1., 1., 1., 1., 1.], requires_grad=True)"
      ]
     },
     "execution_count": 101,
     "metadata": {},
     "output_type": "execute_result"
    }
   ],
   "source": [
    "t(a)\n",
    "\n",
    "t.w"
   ]
  },
  {
   "cell_type": "code",
   "execution_count": 55,
   "metadata": {},
   "outputs": [],
   "source": [
    "class Scale(nn.Module):\n",
    "\n",
    "    def __init__(self, num_features):\n",
    "        super(Scale, self).__init__()\n",
    "        self.num_features = num_features\n",
    "        self.weight = Parameter(torch.ones(self.num_features))\n",
    "        self.bias = Parameter(torch.zeros(self.num_features))\n",
    "\n",
    "    def forward(self, x):\n",
    "        reshape_size = (-1,) + (1,) * (len(x.shape) - 2)\n",
    "        return x * self.weight.reshape(*reshape_size) + self.bias.reshape(*reshape_size)"
   ]
  },
  {
   "cell_type": "code",
   "execution_count": 56,
   "metadata": {},
   "outputs": [
    {
     "data": {
      "text/plain": [
       "Scale()"
      ]
     },
     "execution_count": 56,
     "metadata": {},
     "output_type": "execute_result"
    }
   ],
   "source": [
    "s = Scale(10)\n",
    "s"
   ]
  },
  {
   "cell_type": "code",
   "execution_count": 57,
   "metadata": {},
   "outputs": [
    {
     "data": {
      "text/plain": [
       "tensor([[[[  0.,   1.],\n",
       "          [  2.,   3.]],\n",
       "\n",
       "         [[  4.,   5.],\n",
       "          [  6.,   7.]],\n",
       "\n",
       "         [[  8.,   9.],\n",
       "          [ 10.,  11.]],\n",
       "\n",
       "         [[ 12.,  13.],\n",
       "          [ 14.,  15.]],\n",
       "\n",
       "         [[ 16.,  17.],\n",
       "          [ 18.,  19.]],\n",
       "\n",
       "         [[ 20.,  21.],\n",
       "          [ 22.,  23.]],\n",
       "\n",
       "         [[ 24.,  25.],\n",
       "          [ 26.,  27.]],\n",
       "\n",
       "         [[ 28.,  29.],\n",
       "          [ 30.,  31.]],\n",
       "\n",
       "         [[ 32.,  33.],\n",
       "          [ 34.,  35.]],\n",
       "\n",
       "         [[ 36.,  37.],\n",
       "          [ 38.,  39.]]],\n",
       "\n",
       "\n",
       "        [[[ 40.,  41.],\n",
       "          [ 42.,  43.]],\n",
       "\n",
       "         [[ 44.,  45.],\n",
       "          [ 46.,  47.]],\n",
       "\n",
       "         [[ 48.,  49.],\n",
       "          [ 50.,  51.]],\n",
       "\n",
       "         [[ 52.,  53.],\n",
       "          [ 54.,  55.]],\n",
       "\n",
       "         [[ 56.,  57.],\n",
       "          [ 58.,  59.]],\n",
       "\n",
       "         [[ 60.,  61.],\n",
       "          [ 62.,  63.]],\n",
       "\n",
       "         [[ 64.,  65.],\n",
       "          [ 66.,  67.]],\n",
       "\n",
       "         [[ 68.,  69.],\n",
       "          [ 70.,  71.]],\n",
       "\n",
       "         [[ 72.,  73.],\n",
       "          [ 74.,  75.]],\n",
       "\n",
       "         [[ 76.,  77.],\n",
       "          [ 78.,  79.]]],\n",
       "\n",
       "\n",
       "        [[[ 80.,  81.],\n",
       "          [ 82.,  83.]],\n",
       "\n",
       "         [[ 84.,  85.],\n",
       "          [ 86.,  87.]],\n",
       "\n",
       "         [[ 88.,  89.],\n",
       "          [ 90.,  91.]],\n",
       "\n",
       "         [[ 92.,  93.],\n",
       "          [ 94.,  95.]],\n",
       "\n",
       "         [[ 96.,  97.],\n",
       "          [ 98.,  99.]],\n",
       "\n",
       "         [[100., 101.],\n",
       "          [102., 103.]],\n",
       "\n",
       "         [[104., 105.],\n",
       "          [106., 107.]],\n",
       "\n",
       "         [[108., 109.],\n",
       "          [110., 111.]],\n",
       "\n",
       "         [[112., 113.],\n",
       "          [114., 115.]],\n",
       "\n",
       "         [[116., 117.],\n",
       "          [118., 119.]]],\n",
       "\n",
       "\n",
       "        [[[120., 121.],\n",
       "          [122., 123.]],\n",
       "\n",
       "         [[124., 125.],\n",
       "          [126., 127.]],\n",
       "\n",
       "         [[128., 129.],\n",
       "          [130., 131.]],\n",
       "\n",
       "         [[132., 133.],\n",
       "          [134., 135.]],\n",
       "\n",
       "         [[136., 137.],\n",
       "          [138., 139.]],\n",
       "\n",
       "         [[140., 141.],\n",
       "          [142., 143.]],\n",
       "\n",
       "         [[144., 145.],\n",
       "          [146., 147.]],\n",
       "\n",
       "         [[148., 149.],\n",
       "          [150., 151.]],\n",
       "\n",
       "         [[152., 153.],\n",
       "          [154., 155.]],\n",
       "\n",
       "         [[156., 157.],\n",
       "          [158., 159.]]]], grad_fn=<AddBackward0>)"
      ]
     },
     "execution_count": 57,
     "metadata": {},
     "output_type": "execute_result"
    }
   ],
   "source": [
    "s(a)"
   ]
  },
  {
   "cell_type": "code",
   "execution_count": null,
   "metadata": {},
   "outputs": [],
   "source": []
  }
 ],
 "metadata": {
  "kernelspec": {
   "display_name": "Python 3",
   "language": "python",
   "name": "python3"
  },
  "language_info": {
   "codemirror_mode": {
    "name": "ipython",
    "version": 3
   },
   "file_extension": ".py",
   "mimetype": "text/x-python",
   "name": "python",
   "nbconvert_exporter": "python",
   "pygments_lexer": "ipython3",
   "version": "3.5.2"
  }
 },
 "nbformat": 4,
 "nbformat_minor": 2
}
